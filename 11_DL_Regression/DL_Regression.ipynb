{
 "cells": [
  {
   "cell_type": "markdown",
   "metadata": {},
   "source": [
    "<font size=6>**DL Regression**</font> </h6>"
   ]
  },
  {
   "cell_type": "markdown",
   "metadata": {},
   "source": [
    "In this session we provide a short introduction to **Regression**, a topic which can be covered by both machine learning applications (such as those in [scikit-learn](https://scikit-learn.org/stable/index.html) we saw in clustering and classification session) and deep learning approaches. <br>\n",
    "The goals are:\n",
    "\n",
    "- to get an idea of how we **build and train** a deep learning model\n",
    "- explore some **basic concepts** to better understand their use and impact. \n",
    "\n",
    "In the example that will follow we are mainly going through these steps:\n",
    "\n",
    "    1. Load and Select Data\n",
    "    2. Define Model\n",
    "    3. Compile Model\n",
    "    4. Fit Model \n",
    "    5. Iterate steps 2-3-4 (by adjusting various parameters or the model architecture)\n",
    "    6. Evaluate Model\n",
    "    7. Make Predictions\n"
   ]
  },
  {
   "cell_type": "markdown",
   "metadata": {},
   "source": [
    "# What is regression ?\n",
    "\n",
    "    Modeling problems where the output is a continuous numeric value.\n"
   ]
  },
  {
   "cell_type": "markdown",
   "metadata": {},
   "source": [
    "# Linear regression and least squares\n",
    "\n",
    "A linear regression model will try to predict the single value of the dependent variable $y$ given the independent variable $x$, with the most generic form being: \n",
    "\n",
    "$$y = f (x | β), $$\n",
    "\n",
    "where $x$ corresponds to the input variable(s) and $β$ is an array of parameters.\n",
    "\n",
    "The simplest linear model we can think of is a line:\n",
    "\n",
    "$$y = β_0 + β_1 x $$\n",
    "\n",
    "where $β_0$ and $β_1$ have the usual meaning of intercept and slope of a line. \n",
    "\n",
    "Generalizing a bit, for an input vector $x^T = (x_1, x_2, ..., x_N)$,  where $N$ is the total number of observations (or samples), the linear model to predict the real-valued output $y$ is:\n",
    "\n",
    "$$ f(x) = β_0 + \\sum_{i=1}^{N} x_i β_i. $$\n",
    "\n",
    "To find these parameters we use the Ordinary Least Squares approach, i.e. we try to **minimize** the residual sum of the squares between the observations and the predictions by the model (i.e. the **loss or cost** function):\n",
    "\n",
    "$$ RSS(β) = \\sum_{i=1}^{N} (y_i - f(x_i))^2 =  \\sum_{i=1}^{N} (y_i - β_0 - x_i β_i)^2 .$$\n",
    "\n",
    "\n"
   ]
  },
  {
   "cell_type": "markdown",
   "metadata": {},
   "source": [
    "# The more general linear regression\n",
    "\n",
    "Linear regression refers to modeling functions that are linear with respect to the parameters (coefficients) and not with respect to the variables! For example, the function:\n",
    "\n",
    "$$f (x|β) = \\sum_{i=1}^N β_i g_i(x) = β_1 g_1(x) + β_2 g_2(x)~+~...~+~β_N g_N(x) $$\n",
    "\n",
    "describes a linear problem as long as the sub-functions $g_i(x)$ do not depend on any of the parameters $β_i$. This is not the most generic formulation of the linear regression but we are going to use this form in the following applications."
   ]
  },
  {
   "cell_type": "markdown",
   "metadata": {},
   "source": [
    "# On metrics ... or how well can we do\n",
    "\n",
    "> _Accuracy is a measure for classification not regression_<br>\n",
    "> _We cannot calculate accuracy for a regression model_\n",
    ">\n",
    ">  _by Jason Brownlee [Regression Metrics for Machine Learning](https://machinelearningmastery.com/regression-metrics-for-machine-learning/)_\n",
    "\n",
    "In regression we are dealing with continuous values. Therefore, it is actually impossible to predict the exact same values. The idea is to get an estimate of how close the predictions are to the expected values.\n",
    "\n",
    "We are going to refer only a few of the available metrics in [sklearn](https://machinelearningmastery.com/regression-metrics-for-machine-learning/). In the following $y$ refers to the dependent values while $\\hat{y}$ to the predicted values.\n",
    "\n",
    "**--> Mean Squared Error (MSE)**\n",
    "\n",
    "$$ MSE = \\frac{1}{N}\\sum_{i=1}^{N} (y_i - \\hat{y_i})^2 $$  \n",
    "\n",
    "It is actually the cost function of the Ordinary Least Squares (check $RSS(β)$ above). The units returned in this case are squared. Best score is 0.\n",
    "\n",
    "**--> Root Mean Squared Error (RMSE)**\n",
    "\n",
    "$$ RMSE = \\sqrt{ \\frac{1}{N}\\sum_{i=1}^{N} (y_i - \\hat{y_i})^2 } $$  \n",
    "\n",
    "It returns the square root of MSE so that the units match the units of the target value (so better interpretation).  Best score is 0.\n",
    "\n",
    "**--> Mean Absolute Error (MAE)**\n",
    "\n",
    "$$ MAE = {1 \\over N}\\sum_i^N{|  y_i-\\hat{y_i} |}$$  \n",
    "\n",
    "It is less sensitive to large errors when compared to (R)MSE. The score is in units of the target value and the best \n",
    "\n",
    "> Comment: Although arithetically the best scores for (R)MSE and MAE is 0 this cannot be the case in real-life problems. Instead a baseline model has to be determined and calculate its score. Then, any model that can achieve a score better that the baselie model is accepted as a skilful model.  \n",
    "\n",
    "\n",
    "**--> R2 (coefficient of determination)**\n",
    "\n",
    "$$R^2 = 1 - {\\sum_{i=1}^N{(y_i-\\hat{y_i})^2} \\over \\sum_{i=1}^N{(y_i - \\bar{y})^2}}, $$ \n",
    "\n",
    "where $\\bar{y} = \\frac{1}{n}\\sum_{i=1}^N y_i$. \n",
    "\n",
    "It represents the proportion of variance (of y) that has been explained by the independent variables in the model. It provides an indication of goodness of fit and therefore a measure of how well unseen samples are likely to be predicted by the model, through the proportion of explained variance. Best possible score is 1.0 and it can be negative (because the model can be arbitrarily worse). \n"
   ]
  },
  {
   "cell_type": "markdown",
   "metadata": {},
   "source": [
    "# Application 1: Estimate SFR\n",
    "\n",
    "We will use data derived from the Heraklion Extragalactic Catalogue (HECATE; [Kovlakas et al, 2021](https://ui.adsabs.harvard.edu/abs/2021MNRAS.506.1896K/abstract)) which is an all-sky galaxy catalogue, containing about 200k galaxies (up to z=0.047, D≲200Mpc), and it offers positions, sizes, distances, morphological classifications, star formation rates, stellar masses, metallicities, and nuclear activity classifications. \n",
    "\n",
    "In particular, we are going to use a dataset from the work of [Kouroumpatzakis et al. 2023](https://ui.adsabs.harvard.edu/abs/2023A%26A...673A..16K/abstract) where they estimate the Star Formation Rates (SFR) and stellar mass using model Spectral Enerny Distributions with a variaty of parameters (optical and IR photometry, color terms, and stellar populations). \n",
    "\n",
    "**TASK: build a regression model to predict SFR**\n"
   ]
  },
  {
   "cell_type": "markdown",
   "metadata": {},
   "source": [
    "<font size=4>**CHALLENGE**:</font> </h4>   <br> \n",
    "    \n",
    "They used MCMC and Random Forest, so your work is to build a DL model that will **outperform their results**!!! <br>\n",
    "\n",
    "**Can we ?**\n",
    "<br>\n",
    "<br>\n",
    "\n",
    "<center><img src=\"images/yoda_meme.jpg\"></center>\n",
    "\n"
   ]
  },
  {
   "cell_type": "markdown",
   "metadata": {},
   "source": [
    "&#9755; Sometimes Validation and Test samples can be used interchangeable - as soon as it is clear what is what (and that a real separate unseen sample is used)"
   ]
  },
  {
   "cell_type": "code",
   "execution_count": 1,
   "metadata": {},
   "outputs": [
    {
     "name": "stderr",
     "output_type": "stream",
     "text": [
      "Using TensorFlow backend.\n",
      "/home/grigoris/.local/lib/python3.7/site-packages/tensorflow/python/framework/dtypes.py:516: FutureWarning: Passing (type, 1) or '1type' as a synonym of type is deprecated; in a future version of numpy, it will be understood as (type, (1,)) / '(1,)type'.\n",
      "  _np_qint8 = np.dtype([(\"qint8\", np.int8, 1)])\n",
      "/home/grigoris/.local/lib/python3.7/site-packages/tensorflow/python/framework/dtypes.py:517: FutureWarning: Passing (type, 1) or '1type' as a synonym of type is deprecated; in a future version of numpy, it will be understood as (type, (1,)) / '(1,)type'.\n",
      "  _np_quint8 = np.dtype([(\"quint8\", np.uint8, 1)])\n",
      "/home/grigoris/.local/lib/python3.7/site-packages/tensorflow/python/framework/dtypes.py:518: FutureWarning: Passing (type, 1) or '1type' as a synonym of type is deprecated; in a future version of numpy, it will be understood as (type, (1,)) / '(1,)type'.\n",
      "  _np_qint16 = np.dtype([(\"qint16\", np.int16, 1)])\n",
      "/home/grigoris/.local/lib/python3.7/site-packages/tensorflow/python/framework/dtypes.py:519: FutureWarning: Passing (type, 1) or '1type' as a synonym of type is deprecated; in a future version of numpy, it will be understood as (type, (1,)) / '(1,)type'.\n",
      "  _np_quint16 = np.dtype([(\"quint16\", np.uint16, 1)])\n",
      "/home/grigoris/.local/lib/python3.7/site-packages/tensorflow/python/framework/dtypes.py:520: FutureWarning: Passing (type, 1) or '1type' as a synonym of type is deprecated; in a future version of numpy, it will be understood as (type, (1,)) / '(1,)type'.\n",
      "  _np_qint32 = np.dtype([(\"qint32\", np.int32, 1)])\n",
      "/home/grigoris/.local/lib/python3.7/site-packages/tensorflow/python/framework/dtypes.py:525: FutureWarning: Passing (type, 1) or '1type' as a synonym of type is deprecated; in a future version of numpy, it will be understood as (type, (1,)) / '(1,)type'.\n",
      "  np_resource = np.dtype([(\"resource\", np.ubyte, 1)])\n",
      "/home/grigoris/.local/lib/python3.7/site-packages/tensorboard/compat/tensorflow_stub/dtypes.py:541: FutureWarning: Passing (type, 1) or '1type' as a synonym of type is deprecated; in a future version of numpy, it will be understood as (type, (1,)) / '(1,)type'.\n",
      "  _np_qint8 = np.dtype([(\"qint8\", np.int8, 1)])\n",
      "/home/grigoris/.local/lib/python3.7/site-packages/tensorboard/compat/tensorflow_stub/dtypes.py:542: FutureWarning: Passing (type, 1) or '1type' as a synonym of type is deprecated; in a future version of numpy, it will be understood as (type, (1,)) / '(1,)type'.\n",
      "  _np_quint8 = np.dtype([(\"quint8\", np.uint8, 1)])\n",
      "/home/grigoris/.local/lib/python3.7/site-packages/tensorboard/compat/tensorflow_stub/dtypes.py:543: FutureWarning: Passing (type, 1) or '1type' as a synonym of type is deprecated; in a future version of numpy, it will be understood as (type, (1,)) / '(1,)type'.\n",
      "  _np_qint16 = np.dtype([(\"qint16\", np.int16, 1)])\n",
      "/home/grigoris/.local/lib/python3.7/site-packages/tensorboard/compat/tensorflow_stub/dtypes.py:544: FutureWarning: Passing (type, 1) or '1type' as a synonym of type is deprecated; in a future version of numpy, it will be understood as (type, (1,)) / '(1,)type'.\n",
      "  _np_quint16 = np.dtype([(\"quint16\", np.uint16, 1)])\n",
      "/home/grigoris/.local/lib/python3.7/site-packages/tensorboard/compat/tensorflow_stub/dtypes.py:545: FutureWarning: Passing (type, 1) or '1type' as a synonym of type is deprecated; in a future version of numpy, it will be understood as (type, (1,)) / '(1,)type'.\n",
      "  _np_qint32 = np.dtype([(\"qint32\", np.int32, 1)])\n",
      "/home/grigoris/.local/lib/python3.7/site-packages/tensorboard/compat/tensorflow_stub/dtypes.py:550: FutureWarning: Passing (type, 1) or '1type' as a synonym of type is deprecated; in a future version of numpy, it will be understood as (type, (1,)) / '(1,)type'.\n",
      "  np_resource = np.dtype([(\"resource\", np.ubyte, 1)])\n"
     ]
    }
   ],
   "source": [
    "# Loading packages and defining some functions\n",
    "\n",
    "import numpy as np\n",
    "import matplotlib.pyplot as plt\n",
    "import time\n",
    "import keras\n",
    "from keras.layers import Activation, Dropout, Flatten, Dense, Input, BatchNormalization,Conv3D, MaxPooling3D, Dense, Add, Activation\n",
    "from keras import regularizers\n",
    "from keras.models import Model, Sequential\n",
    "from keras.optimizers import Adam, SGD, Adagrad, RMSprop\n",
    "from IPython.display import clear_output\n",
    "\n",
    "class PlotLosses(keras.callbacks.Callback):\n",
    "    # NOTE: the current version can print only the first metric from the list provided\n",
    "    def on_train_begin(self, logs={}):\n",
    "        self.i = 0\n",
    "        self.x = []\n",
    "        self.losses = []\n",
    "        self.val_losses = []\n",
    "        self.losses2 = []\n",
    "        self.val_losses2 = []\n",
    "        \n",
    "        self.fig = plt.figure()\n",
    "        \n",
    "        self.logs = []\n",
    "\n",
    "    def on_epoch_end(self, epoch, logs={}):\n",
    "        self.logs.append(logs)\n",
    "        self.x.append(self.i)\n",
    "        self.losses.append(logs.get('loss'))\n",
    "        self.val_losses.append(logs.get('val_loss'))\n",
    "        self.losses2.append(logs.get( test_metrics[0] ) )\n",
    "        self.val_losses2.append(logs.get( f'val_{test_metrics[0]}' ))\n",
    "#         print(test_metrics[0] , logs.get( test_metrics[0] ), logs.get( f'val_{test_metrics[0]}' ))\n",
    "#         print(self.losses2)\n",
    "\n",
    "        self.i += 1\n",
    "        \n",
    "        clear_output(wait=True)\n",
    "        plt.subplot(1,2,1)\n",
    "        plt.plot(self.x, self.losses2, label=\"Train\",linestyle='-')\n",
    "        plt.plot(self.x, self.val_losses2, label=\"Validate\",linestyle='--')\n",
    "#        plt.ylim(0,1)\n",
    "        plt.legend()\n",
    "        plt.xlabel('Epoch')\n",
    "        plt.ylabel(test_metrics[0])\n",
    "        \n",
    "        plt.subplot(1,2,2)\n",
    "        plt.plot(self.x, self.losses, label=\"Train\",linestyle='-')\n",
    "        plt.plot(self.x, self.val_losses, label=\"Validate\",linestyle='--')\n",
    "\n",
    "        plt.legend()\n",
    "        plt.xlabel('Epoch')\n",
    "        plt.ylabel('Loss')\n",
    "        \n",
    "        plt.tight_layout()\n",
    "        \n",
    "        plt.show();\n",
    "        \n",
    "plot_losses = PlotLosses()\n",
    "\n",
    "\n",
    "def sub_ploots(plots_cols, plots_array):\n",
    "        \"\"\" Automatic adjustment of subplots\n",
    "        Given the \n",
    "        plots_cols     : plots per row (set manually)\n",
    "        plots_array    : array from which the number of \n",
    "                         individual subplots is derived\n",
    "\n",
    "        the output is given as \n",
    "        plots_cols     : plots per row\n",
    "        plots_rows     : number of necessary rows to create\n",
    "        \"\"\"\n",
    "        plots_unique = len((list(set(plots_array))))\n",
    "        plots_rows = int(np.ceil(plots_unique/plots_cols))\n",
    "        \n",
    "        return plots_rows, plots_cols"
   ]
  },
  {
   "cell_type": "markdown",
   "metadata": {},
   "source": [
    "## Loading and checking data "
   ]
  },
  {
   "cell_type": "code",
   "execution_count": 2,
   "metadata": {},
   "outputs": [
    {
     "name": "stdout",
     "output_type": "stream",
     "text": [
      "Filename: data/CIGALE_SFR.fits\n",
      "No.    Name      Ver    Type      Cards   Dimensions   Format\n",
      "  0  PRIMARY       1 PrimaryHDU      16   (1149,)   uint8   \n",
      "  1  /home/grigoris/Projects/AstroStatisticsCrete-2023/notebooks/CIGAL...    1 BinTableHDU     46   123908R x 17C   [D, D, D, D, D, D, D, D, D, D, D, D, D, D, D, D, D]   \n",
      "-----\n",
      "ColDefs(\n",
      "    name = 'sfr'; format = 'D'\n",
      "    name = 'mstar'; format = 'D'\n",
      "    name = 'IRX'; format = 'D'\n",
      "    name = 'IRXg'; format = 'D'\n",
      "    name = 'EBVs'; format = 'D'\n",
      "    name = 'EBVn'; format = 'D'\n",
      "    name = 'MTLCT'; format = 'D'\n",
      "    name = 'LYoungOld'; format = 'D'\n",
      "    name = 'u'; format = 'D'\n",
      "    name = 'g'; format = 'D'\n",
      "    name = 'r'; format = 'D'\n",
      "    name = 'logNIR200'; format = 'D'\n",
      "    name = 'logMIRI2100'; format = 'D'\n",
      "    name = 'logW1'; format = 'D'\n",
      "    name = 'logW2'; format = 'D'\n",
      "    name = 'logW3'; format = 'D'\n",
      "    name = 'logW4'; format = 'D'\n",
      ")\n"
     ]
    }
   ],
   "source": [
    "from astropy.io import fits\n",
    "from astropy.table import Table\n",
    "# following this tutorial :https://learn.astropy.org/tutorials/FITS-tables.html\n",
    "\n",
    "data_fits = fits.open('data/CIGALE_SFR.fits', memmap=True)\n",
    "\n",
    "# printing some information \n",
    "data_fits.info()\n",
    "print('-----')\n",
    "print(data_fits[1].columns)"
   ]
  },
  {
   "cell_type": "code",
   "execution_count": 3,
   "metadata": {},
   "outputs": [
    {
     "data": {
      "text/html": [
       "<i>Table length=123908</i>\n",
       "<table id=\"table139764391477992\" class=\"table-striped table-bordered table-condensed\">\n",
       "<thead><tr><th>sfr</th><th>mstar</th><th>IRX</th><th>IRXg</th><th>EBVs</th><th>EBVn</th><th>MTLCT</th><th>LYoungOld</th><th>u</th><th>g</th><th>r</th><th>logNIR200</th><th>logMIRI2100</th><th>logW1</th><th>logW2</th><th>logW3</th><th>logW4</th></tr></thead>\n",
       "<thead><tr><th>float64</th><th>float64</th><th>float64</th><th>float64</th><th>float64</th><th>float64</th><th>float64</th><th>float64</th><th>float64</th><th>float64</th><th>float64</th><th>float64</th><th>float64</th><th>float64</th><th>float64</th><th>float64</th><th>float64</th></tr></thead>\n",
       "<tr><td>-1.7775958737441702</td><td>8.88439002050874</td><td>1.0597066442746876</td><td>0.6514418848431899</td><td>0.075</td><td>0.25</td><td>0.004</td><td>-1.161582684412036</td><td>-25.165328563337408</td><td>-25.70599046191616</td><td>-26.291299528344705</td><td>20.57568201275021</td><td>20.915356290620906</td><td>20.283857754272237</td><td>20.07785242628705</td><td>20.749168886908052</td><td>20.977838069609653</td></tr>\n",
       "<tr><td>-5.598150103513504</td><td>7.163475768985803</td><td>0.6090525930420546</td><td>0.15809224130840754</td><td>0.075</td><td>0.25</td><td>0.0004</td><td>-3.095438541121911</td><td>-20.778258821449963</td><td>-21.42565970078408</td><td>-22.134851538101163</td><td>18.699843670803883</td><td>18.71021154983641</td><td>18.380386821972536</td><td>18.169375587980156</td><td>18.556209527608885</td><td>18.77235612162204</td></tr>\n",
       "<tr><td>0.46026919969367264</td><td>9.555252512015649</td><td>1.902715602377176</td><td>1.6737613712475208</td><td>0.12</td><td>0.4</td><td>0.0004</td><td>-0.007993003792127648</td><td>-27.381645133910272</td><td>-27.474030711734407</td><td>-28.06240482059499</td><td>21.24489484510881</td><td>22.644248708956212</td><td>21.234736799549726</td><td>21.25041706188928</td><td>22.46532446497027</td><td>22.707373655941282</td></tr>\n",
       "<tr><td>2.4145309631249785</td><td>10.32453156040969</td><td>1.399250989811699</td><td>1.4079612806413735</td><td>0.06</td><td>0.2</td><td>0.05</td><td>0.59695867241776</td><td>-32.76388688802393</td><td>-32.26211116094975</td><td>-32.80171050240841</td><td>23.240506755171285</td><td>24.305480238065996</td><td>23.0619764044172</td><td>23.01596122061309</td><td>24.127836105292985</td><td>24.356805745021273</td></tr>\n",
       "<tr><td>-3.2602550268517</td><td>8.694262138626932</td><td>1.5825219675250681</td><td>1.1352159457468731</td><td>0.24</td><td>0.8</td><td>0.008</td><td>-2.6966069354956685</td><td>-24.52041935307027</td><td>-25.158684407515764</td><td>-25.82528302865342</td><td>20.478382255352365</td><td>21.17948475308555</td><td>20.222128818087356</td><td>20.063940269851575</td><td>21.003583359324065</td><td>21.242689708753176</td></tr>\n",
       "<tr><td>-3.8229180838972106</td><td>8.827694847737332</td><td>0.794228535480207</td><td>0.2843246519908631</td><td>0.06</td><td>0.2</td><td>0.0004</td><td>-2.6499464090799667</td><td>-23.653879827467303</td><td>-24.44863953619066</td><td>-25.365224425817953</td><td>20.175890232692996</td><td>20.04636052688319</td><td>19.85353655051953</td><td>19.621751170933265</td><td>19.900476164368083</td><td>20.10778046646713</td></tr>\n",
       "<tr><td>0.8506413438533907</td><td>9.465027116409965</td><td>1.6451465950450486</td><td>1.4984204145555122</td><td>0.12</td><td>0.4</td><td>0.02</td><td>0.42176281956076034</td><td>-28.549734687420038</td><td>-28.43655013864388</td><td>-28.793100027358232</td><td>21.583159957555335</td><td>22.862224270730703</td><td>21.464771982664036</td><td>21.462010041607755</td><td>22.70072019878477</td><td>22.917040470013063</td></tr>\n",
       "<tr><td>0.3212462542445377</td><td>8.46334364974829</td><td>1.9219557531126592</td><td>1.7177592328383302</td><td>0.195</td><td>0.65</td><td>0.008</td><td>1.943541695128508</td><td>-26.299831693555685</td><td>-26.3303229942415</td><td>-26.67930205973931</td><td>20.53529154234542</td><td>22.23356572282868</td><td>20.641662695014567</td><td>20.73772356328627</td><td>22.06708673225438</td><td>22.29388843053493</td></tr>\n",
       "<tr><td>0.34317898627799476</td><td>8.287711611276643</td><td>1.9519193931772922</td><td>1.8290439645016736</td><td>0.18</td><td>0.6</td><td>0.0004</td><td>0.38600979614344816</td><td>-26.790091534343144</td><td>-26.61728010603219</td><td>-26.97489956389519</td><td>20.545438547880376</td><td>22.456827133479848</td><td>20.8170107257701</td><td>20.952689859912386</td><td>22.277083741941293</td><td>22.519956006914548</td></tr>\n",
       "<tr><td>-1.9998522885870758</td><td>7.214744496485569</td><td>1.5986610999980628</td><td>1.3863314573784447</td><td>0.135</td><td>0.45</td><td>0.05</td><td>0.28689899690572856</td><td>-21.516896582947016</td><td>-21.567720689496063</td><td>-22.185854115024714</td><td>19.246334189290746</td><td>20.014628503582088</td><td>19.006971127337437</td><td>18.910619056128002</td><td>19.847590447588626</td><td>20.05741973317687</td></tr>\n",
       "<tr><td>...</td><td>...</td><td>...</td><td>...</td><td>...</td><td>...</td><td>...</td><td>...</td><td>...</td><td>...</td><td>...</td><td>...</td><td>...</td><td>...</td><td>...</td><td>...</td><td>...</td></tr>\n",
       "<tr><td>-1.5188230957451017</td><td>8.771037223890554</td><td>1.7873532262707958</td><td>1.3117552869364069</td><td>0.12</td><td>0.4</td><td>0.008</td><td>-0.6134252281331174</td><td>-23.47001519578159</td><td>-24.17901004411756</td><td>-25.083111905289858</td><td>20.438790340388334</td><td>20.96611892115436</td><td>20.243521484270744</td><td>20.063957300649147</td><td>20.796018398163422</td><td>21.02735930458343</td></tr>\n",
       "<tr><td>1.7059806575864966</td><td>11.405458767084275</td><td>1.46952091353625</td><td>1.011766134441046</td><td>0.12</td><td>0.4</td><td>0.004</td><td>-0.09868096331246061</td><td>-31.249106790137883</td><td>-31.913493737875882</td><td>-32.66366052103706</td><td>23.18548726913272</td><td>23.759366126625086</td><td>22.906810401065663</td><td>22.74550496134778</td><td>23.595469439525353</td><td>23.8211636295914</td></tr>\n",
       "<tr><td>0.9557223713982224</td><td>10.780719981375766</td><td>1.4183279835532205</td><td>0.9678113984003291</td><td>0.135</td><td>0.45</td><td>0.004</td><td>-0.4203406597014237</td><td>-30.025624257238473</td><td>-30.6719157201207</td><td>-31.36892078995127</td><td>22.636512060524527</td><td>23.218246896806054</td><td>22.359901114215223</td><td>22.200419406422185</td><td>23.050643154980108</td><td>23.28057768644861</td></tr>\n",
       "<tr><td>-0.9100185967420225</td><td>10.368862255771392</td><td>1.8078302101315302</td><td>1.1218728055237175</td><td>0.105</td><td>0.35</td><td>0.05</td><td>-1.5198560436062785</td><td>-26.586501220565754</td><td>-27.82139473208528</td><td>-28.84935236654793</td><td>22.138609652236795</td><td>22.23386557820802</td><td>21.92759110518293</td><td>21.780211242531152</td><td>22.091830816526723</td><td>22.294430698357832</td></tr>\n",
       "<tr><td>-3.3836276664298435</td><td>7.759635862215846</td><td>1.1727987576482362</td><td>0.5497021725013012</td><td>0.135</td><td>0.45</td><td>0.004</td><td>-1.339845715134953</td><td>-20.97389755226504</td><td>-22.05163901513238</td><td>-23.02313956892881</td><td>19.41373857255884</td><td>19.352886351980043</td><td>19.095448675581736</td><td>18.862989502993337</td><td>19.20662326749482</td><td>19.41435777855425</td></tr>\n",
       "<tr><td>-2.8335447756906307</td><td>7.533509628958965</td><td>1.2858752382949472</td><td>0.7626721323127528</td><td>0.21</td><td>0.7</td><td>0.0004</td><td>-0.9035784429392888</td><td>-21.718491999520825</td><td>-22.54649976447631</td><td>-23.351681301408387</td><td>19.239686721029468</td><td>19.762275613253124</td><td>18.952054648667882</td><td>18.79114774637298</td><td>19.58939594367031</td><td>19.825272038103275</td></tr>\n",
       "<tr><td>-0.8274329509496723</td><td>8.020227395023554</td><td>1.6823746352586408</td><td>1.4361006621696373</td><td>0.15</td><td>0.5</td><td>0.004</td><td>0.09358282734888626</td><td>-24.654335070481448</td><td>-24.790020003203956</td><td>-25.355828534625683</td><td>20.053160209794484</td><td>21.334820384966914</td><td>19.934495424325576</td><td>19.928395239789037</td><td>21.154708960407653</td><td>21.39610866345122</td></tr>\n",
       "<tr><td>-2.5603760123980854</td><td>8.227297904421812</td><td>1.0689283244099852</td><td>0.6367053678938831</td><td>0.045</td><td>0.15</td><td>0.0004</td><td>-0.9410343856725784</td><td>-22.602366337157473</td><td>-23.202923728447722</td><td>-24.044831889959756</td><td>19.649818508289172</td><td>19.899430142668436</td><td>19.36443306034693</td><td>19.159935779512292</td><td>19.734189489034495</td><td>19.961874859272974</td></tr>\n",
       "<tr><td>-1.6265984807104805</td><td>11.233853024079835</td><td>1.287145789517768</td><td>0.3218533029809267</td><td>0.075</td><td>0.25</td><td>0.05</td><td>-2.6847635432850616</td><td>-27.15208548342947</td><td>-29.085316699771575</td><td>-30.37172619206994</td><td>22.723234568657237</td><td>21.958294834035907</td><td>22.416556410498956</td><td>22.24424335904868</td><td>21.966343600921128</td><td>21.999979982889556</td></tr>\n",
       "<tr><td>-0.2862462828917926</td><td>8.258229780311074</td><td>1.7864071108349548</td><td>1.540760735694779</td><td>0.165</td><td>0.55</td><td>0.008</td><td>0.4022061453957291</td><td>-25.53251018511396</td><td>-25.666626122964395</td><td>-26.079574973648672</td><td>20.395664051368318</td><td>21.79088037893647</td><td>20.33383817981429</td><td>20.359959668700956</td><td>21.623964197765137</td><td>21.851411184880536</td></tr>\n",
       "</table>"
      ],
      "text/plain": [
       "<Table length=123908>\n",
       "        sfr               mstar        ...       logW3              logW4       \n",
       "      float64            float64       ...      float64            float64      \n",
       "------------------- ------------------ ... ------------------ ------------------\n",
       "-1.7775958737441702   8.88439002050874 ... 20.749168886908052 20.977838069609653\n",
       " -5.598150103513504  7.163475768985803 ... 18.556209527608885  18.77235612162204\n",
       "0.46026919969367264  9.555252512015649 ...  22.46532446497027 22.707373655941282\n",
       " 2.4145309631249785  10.32453156040969 ... 24.127836105292985 24.356805745021273\n",
       "   -3.2602550268517  8.694262138626932 ... 21.003583359324065 21.242689708753176\n",
       "-3.8229180838972106  8.827694847737332 ... 19.900476164368083  20.10778046646713\n",
       " 0.8506413438533907  9.465027116409965 ...  22.70072019878477 22.917040470013063\n",
       " 0.3212462542445377   8.46334364974829 ...  22.06708673225438  22.29388843053493\n",
       "0.34317898627799476  8.287711611276643 ... 22.277083741941293 22.519956006914548\n",
       "-1.9998522885870758  7.214744496485569 ... 19.847590447588626  20.05741973317687\n",
       "                ...                ... ...                ...                ...\n",
       "-1.5188230957451017  8.771037223890554 ... 20.796018398163422  21.02735930458343\n",
       " 1.7059806575864966 11.405458767084275 ... 23.595469439525353   23.8211636295914\n",
       " 0.9557223713982224 10.780719981375766 ... 23.050643154980108  23.28057768644861\n",
       "-0.9100185967420225 10.368862255771392 ... 22.091830816526723 22.294430698357832\n",
       "-3.3836276664298435  7.759635862215846 ...  19.20662326749482  19.41435777855425\n",
       "-2.8335447756906307  7.533509628958965 ...  19.58939594367031 19.825272038103275\n",
       "-0.8274329509496723  8.020227395023554 ... 21.154708960407653  21.39610866345122\n",
       "-2.5603760123980854  8.227297904421812 ... 19.734189489034495 19.961874859272974\n",
       "-1.6265984807104805 11.233853024079835 ... 21.966343600921128 21.999979982889556\n",
       "-0.2862462828917926  8.258229780311074 ... 21.623964197765137 21.851411184880536"
      ]
     },
     "execution_count": 3,
     "metadata": {},
     "output_type": "execute_result"
    }
   ],
   "source": [
    "# printing the data table \n",
    "\n",
    "data_tab = Table(data_fits[1].data)\n",
    "data_tab"
   ]
  },
  {
   "cell_type": "markdown",
   "metadata": {},
   "source": [
    "## Selecting features\n",
    "\n",
    "In this part we can select which features we want to keep and use to train our model. Feel free to choose any number of feature - keep in mind though **NOT** to select `sfr` and `mstar` as these are needed for the output (i.e. are the values we want to predict).\n",
    "\n",
    "_HINT_: for the column names check above."
   ]
  },
  {
   "cell_type": "code",
   "execution_count": 4,
   "metadata": {},
   "outputs": [
    {
     "data": {
      "image/png": "[encoded data removed]",
      "text/plain": [
       "<Figure size 1080x1080 with 3 Axes>"
      ]
     },
     "metadata": {
      "needs_background": "light"
     },
     "output_type": "display_data"
    }
   ],
   "source": [
    "sel_features = ['logW1', 'logW2', 'EBVs' ]\n",
    "\n",
    "fig = plt.figure(figsize=(15,15))\n",
    "\n",
    "rws, cls = sub_ploots(2, sel_features)  # for subplots\n",
    "for f in range(len(sel_features)):\n",
    "    f_name = sel_features[f]\n",
    "    ax = fig.add_subplot(rws, cls, f+1)\n",
    "    ax.set_title(f'Feature {f_name}')\n",
    "    ax.hist(data_tab[f_name], bins='auto', align='mid', density=True)\n",
    "    ax.set_xlabel('feature value')\n",
    "    ax.set_ylabel('number of objects')\n",
    "    \n",
    "plt.show()"
   ]
  },
  {
   "cell_type": "code",
   "execution_count": 5,
   "metadata": {},
   "outputs": [
    {
     "data": {
      "text/html": [
       "<i>Table length=123908</i>\n",
       "<table id=\"table139764382850464\" class=\"table-striped table-bordered table-condensed\">\n",
       "<thead><tr><th>logW1</th><th>logW2</th><th>EBVs</th></tr></thead>\n",
       "<thead><tr><th>float64</th><th>float64</th><th>float64</th></tr></thead>\n",
       "<tr><td>20.283857754272237</td><td>20.07785242628705</td><td>0.075</td></tr>\n",
       "<tr><td>18.380386821972536</td><td>18.169375587980156</td><td>0.075</td></tr>\n",
       "<tr><td>21.234736799549726</td><td>21.25041706188928</td><td>0.12</td></tr>\n",
       "<tr><td>23.0619764044172</td><td>23.01596122061309</td><td>0.06</td></tr>\n",
       "<tr><td>20.222128818087356</td><td>20.063940269851575</td><td>0.24</td></tr>\n",
       "<tr><td>19.85353655051953</td><td>19.621751170933265</td><td>0.06</td></tr>\n",
       "<tr><td>21.464771982664036</td><td>21.462010041607755</td><td>0.12</td></tr>\n",
       "<tr><td>20.641662695014567</td><td>20.73772356328627</td><td>0.195</td></tr>\n",
       "<tr><td>20.8170107257701</td><td>20.952689859912386</td><td>0.18</td></tr>\n",
       "<tr><td>19.006971127337437</td><td>18.910619056128002</td><td>0.135</td></tr>\n",
       "<tr><td>...</td><td>...</td><td>...</td></tr>\n",
       "<tr><td>20.243521484270744</td><td>20.063957300649147</td><td>0.12</td></tr>\n",
       "<tr><td>22.906810401065663</td><td>22.74550496134778</td><td>0.12</td></tr>\n",
       "<tr><td>22.359901114215223</td><td>22.200419406422185</td><td>0.135</td></tr>\n",
       "<tr><td>21.92759110518293</td><td>21.780211242531152</td><td>0.105</td></tr>\n",
       "<tr><td>19.095448675581736</td><td>18.862989502993337</td><td>0.135</td></tr>\n",
       "<tr><td>18.952054648667882</td><td>18.79114774637298</td><td>0.21</td></tr>\n",
       "<tr><td>19.934495424325576</td><td>19.928395239789037</td><td>0.15</td></tr>\n",
       "<tr><td>19.36443306034693</td><td>19.159935779512292</td><td>0.045</td></tr>\n",
       "<tr><td>22.416556410498956</td><td>22.24424335904868</td><td>0.075</td></tr>\n",
       "<tr><td>20.33383817981429</td><td>20.359959668700956</td><td>0.165</td></tr>\n",
       "</table>"
      ],
      "text/plain": [
       "<Table length=123908>\n",
       "      logW1              logW2          EBVs \n",
       "     float64            float64       float64\n",
       "------------------ ------------------ -------\n",
       "20.283857754272237  20.07785242628705   0.075\n",
       "18.380386821972536 18.169375587980156   0.075\n",
       "21.234736799549726  21.25041706188928    0.12\n",
       "  23.0619764044172  23.01596122061309    0.06\n",
       "20.222128818087356 20.063940269851575    0.24\n",
       " 19.85353655051953 19.621751170933265    0.06\n",
       "21.464771982664036 21.462010041607755    0.12\n",
       "20.641662695014567  20.73772356328627   0.195\n",
       "  20.8170107257701 20.952689859912386    0.18\n",
       "19.006971127337437 18.910619056128002   0.135\n",
       "               ...                ...     ...\n",
       "20.243521484270744 20.063957300649147    0.12\n",
       "22.906810401065663  22.74550496134778    0.12\n",
       "22.359901114215223 22.200419406422185   0.135\n",
       " 21.92759110518293 21.780211242531152   0.105\n",
       "19.095448675581736 18.862989502993337   0.135\n",
       "18.952054648667882  18.79114774637298    0.21\n",
       "19.934495424325576 19.928395239789037    0.15\n",
       " 19.36443306034693 19.159935779512292   0.045\n",
       "22.416556410498956  22.24424335904868   0.075\n",
       " 20.33383817981429 20.359959668700956   0.165"
      ]
     },
     "execution_count": 5,
     "metadata": {},
     "output_type": "execute_result"
    }
   ],
   "source": [
    "data_tab[sel_features]"
   ]
  },
  {
   "cell_type": "code",
   "execution_count": 6,
   "metadata": {},
   "outputs": [
    {
     "ename": "NameError",
     "evalue": "name 'data2' is not defined",
     "output_type": "error",
     "traceback": [
      "\u001b[0;31m---------------------------------------------------------------------------\u001b[0m",
      "\u001b[0;31mNameError\u001b[0m                                 Traceback (most recent call last)",
      "\u001b[0;32m<ipython-input-6-b3f7a796130a>\u001b[0m in \u001b[0;36m<module>\u001b[0;34m\u001b[0m\n\u001b[0;32m----> 1\u001b[0;31m \u001b[0mnp\u001b[0m\u001b[0;34m.\u001b[0m\u001b[0masarray\u001b[0m\u001b[0;34m(\u001b[0m \u001b[0mdata2\u001b[0m\u001b[0;34m[\u001b[0m\u001b[0;34m'mstar'\u001b[0m\u001b[0;34m,\u001b[0m \u001b[0;34m'logW1'\u001b[0m\u001b[0;34m]\u001b[0m \u001b[0;34m)\u001b[0m\u001b[0;34m.\u001b[0m\u001b[0mreshape\u001b[0m\u001b[0;34m(\u001b[0m\u001b[0;34m-\u001b[0m\u001b[0;36m1\u001b[0m\u001b[0;34m,\u001b[0m \u001b[0;36m1\u001b[0m\u001b[0;34m)\u001b[0m\u001b[0;34m\u001b[0m\u001b[0;34m\u001b[0m\u001b[0m\n\u001b[0m",
      "\u001b[0;31mNameError\u001b[0m: name 'data2' is not defined"
     ]
    }
   ],
   "source": [
    "np.asarray( data2['mstar', 'logW1'] ).reshape(-1, 1)"
   ]
  },
  {
   "cell_type": "code",
   "execution_count": 7,
   "metadata": {},
   "outputs": [
    {
     "ename": "NameError",
     "evalue": "name 'data2' is not defined",
     "output_type": "error",
     "traceback": [
      "\u001b[0;31m---------------------------------------------------------------------------\u001b[0m",
      "\u001b[0;31mNameError\u001b[0m                                 Traceback (most recent call last)",
      "\u001b[0;32m<ipython-input-7-ad5ff907d58a>\u001b[0m in \u001b[0;36m<module>\u001b[0;34m\u001b[0m\n\u001b[0;32m----> 1\u001b[0;31m \u001b[0mtarget\u001b[0m \u001b[0;34m=\u001b[0m \u001b[0mnp\u001b[0m\u001b[0;34m.\u001b[0m\u001b[0marray\u001b[0m\u001b[0;34m(\u001b[0m\u001b[0mdata2\u001b[0m\u001b[0;34m[\u001b[0m\u001b[0;34m'sfr'\u001b[0m\u001b[0;34m]\u001b[0m\u001b[0;34m)\u001b[0m\u001b[0;34m.\u001b[0m\u001b[0mreshape\u001b[0m\u001b[0;34m(\u001b[0m\u001b[0;34m-\u001b[0m\u001b[0;36m1\u001b[0m\u001b[0;34m,\u001b[0m\u001b[0;36m1\u001b[0m\u001b[0;34m)\u001b[0m\u001b[0;34m\u001b[0m\u001b[0;34m\u001b[0m\u001b[0m\n\u001b[0m\u001b[1;32m      2\u001b[0m \u001b[0mvalues2\u001b[0m \u001b[0;34m=\u001b[0m \u001b[0mnp\u001b[0m\u001b[0;34m.\u001b[0m\u001b[0marray\u001b[0m\u001b[0;34m(\u001b[0m\u001b[0mdata2\u001b[0m\u001b[0;34m[\u001b[0m\u001b[0msel_features\u001b[0m\u001b[0;34m]\u001b[0m\u001b[0;34m)\u001b[0m \u001b[0;31m#.reshape(-1, len(sel_features))\u001b[0m\u001b[0;34m\u001b[0m\u001b[0;34m\u001b[0m\u001b[0m\n\u001b[1;32m      3\u001b[0m \u001b[0;34m\u001b[0m\u001b[0m\n\u001b[1;32m      4\u001b[0m \u001b[0mprint\u001b[0m\u001b[0;34m(\u001b[0m\u001b[0mtarget\u001b[0m\u001b[0;34m)\u001b[0m\u001b[0;34m\u001b[0m\u001b[0;34m\u001b[0m\u001b[0m\n\u001b[1;32m      5\u001b[0m \u001b[0mprint\u001b[0m\u001b[0;34m(\u001b[0m\u001b[0mvalues\u001b[0m\u001b[0;34m)\u001b[0m\u001b[0;34m\u001b[0m\u001b[0;34m\u001b[0m\u001b[0m\n",
      "\u001b[0;31mNameError\u001b[0m: name 'data2' is not defined"
     ]
    }
   ],
   "source": [
    "target = np.array(data2['sfr']).reshape(-1,1)\n",
    "values2 = np.array(data2[sel_features]) #.reshape(-1, len(sel_features))\n",
    "\n",
    "print(target)\n",
    "print(values)\n",
    "print(values.shape())"
   ]
  },
  {
   "cell_type": "code",
   "execution_count": 8,
   "metadata": {},
   "outputs": [
    {
     "name": "stdout",
     "output_type": "stream",
     "text": [
      "[[20.28385775 20.07785243  0.075     ]\n",
      " [18.38038682 18.16937559  0.075     ]\n",
      " [21.2347368  21.25041706  0.12      ]\n",
      " ...\n",
      " [19.36443306 19.15993578  0.045     ]\n",
      " [22.41655641 22.24424336  0.075     ]\n",
      " [20.33383818 20.35995967  0.165     ]]\n"
     ]
    }
   ],
   "source": [
    "values = np.concatenate( (np.array(data_tab['logW1']).reshape(-1,1), np.array(data_tab['logW2']).reshape(-1,1), np.array(data_tab['EBVs']).reshape(-1,1) ), axis=1)\n",
    "target = np.array(data_tab['sfr']).reshape(-1,1)\n",
    "#target = np.concatenate( (np.array(data2['sfr']).reshape(-1,1), np.array(data2['mstar']).reshape(-1,1)), axis=1)\n",
    "\n",
    "print(values)"
   ]
  },
  {
   "cell_type": "code",
   "execution_count": 9,
   "metadata": {},
   "outputs": [
    {
     "data": {
      "text/plain": [
       "array([[-1.77759587],\n",
       "       [-5.5981501 ],\n",
       "       [ 0.4602692 ],\n",
       "       ...,\n",
       "       [-2.56037601],\n",
       "       [-1.62659848],\n",
       "       [-0.28624628]])"
      ]
     },
     "execution_count": 9,
     "metadata": {},
     "output_type": "execute_result"
    }
   ],
   "source": [
    "target"
   ]
  },
  {
   "cell_type": "markdown",
   "metadata": {},
   "source": [
    "## Split the sample and ... ?\n",
    "\n",
    "**TASK: what should you do before training the model?**"
   ]
  },
  {
   "cell_type": "code",
   "execution_count": 10,
   "metadata": {},
   "outputs": [
    {
     "name": "stdout",
     "output_type": "stream",
     "text": [
      "> From 123908 sources:\n",
      "   69388 (train)\n",
      "   17347 (validation)\n",
      "   37173 (test)\n",
      "\n",
      "> Statistics per feature:\n",
      "Mean: [20.84713872 20.74139802  0.11421892]\n",
      "Variance: [2.28082492e+00 2.33897279e+00 2.15045287e-03]\n",
      "\n",
      " Target shape: (69388, 1)\n"
     ]
    }
   ],
   "source": [
    "from sklearn.model_selection import train_test_split\n",
    "from sklearn.preprocessing import StandardScaler\n",
    "\n",
    "\n",
    "X_train_full, X_test, y_train_full, y_test = train_test_split( values, target,\n",
    "                        test_size=0.3) #, random_state=42) \n",
    "X_train, X_valid, y_train, y_valid = train_test_split( X_train_full, y_train_full,\n",
    "                        test_size=0.2) #, random_state=42) \n",
    "\n",
    "scaler = StandardScaler()\n",
    "X_train_scaled = scaler.fit_transform(X_train)\n",
    "X_valid_scaled = scaler.transform(X_valid)\n",
    "X_test_scaled = scaler.transform(X_test)\n",
    "\n",
    "print(f'> From {len(target)} sources:')\n",
    "print(f'   {len(X_train)} (train)')\n",
    "print(f'   {len(X_valid)} (validation)')\n",
    "print(f'   {len(X_test)} (test)') \n",
    "print('\\n> Statistics per feature:')\n",
    "print(f'Mean: {scaler.mean_}')\n",
    "print(f'Variance: {scaler.var_}')\n",
    "print()\n",
    "print(f' Target shape: {y_train.shape}') # print the shape of the output values\n"
   ]
  },
  {
   "cell_type": "markdown",
   "metadata": {},
   "source": [
    "## Time to build our model! "
   ]
  },
  {
   "cell_type": "code",
   "execution_count": 14,
   "metadata": {},
   "outputs": [],
   "source": [
    "# if you want you can add more output metrics!\n",
    "# but keep in mind that the plot_losses will use the first one.\n",
    "\n",
    "test_metrics = [ 'mean_squared_error'] #, 'mean_absolute_error', ]\n"
   ]
  },
  {
   "cell_type": "code",
   "execution_count": 15,
   "metadata": {},
   "outputs": [],
   "source": [
    "model = Sequential()\n",
    "\n",
    "model.add( Dense(32, input_shape=X_train.shape[1:], activation='relu') )\n",
    "model.add( Dense(16, activation='relu') )\n",
    "model.add( Dense(1) )"
   ]
  },
  {
   "cell_type": "code",
   "execution_count": 16,
   "metadata": {},
   "outputs": [
    {
     "name": "stdout",
     "output_type": "stream",
     "text": [
      "Model: \"sequential_2\"\n",
      "_________________________________________________________________\n",
      "Layer (type)                 Output Shape              Param #   \n",
      "=================================================================\n",
      "dense_4 (Dense)              (None, 32)                128       \n",
      "_________________________________________________________________\n",
      "dense_5 (Dense)              (None, 16)                528       \n",
      "_________________________________________________________________\n",
      "dense_6 (Dense)              (None, 1)                 17        \n",
      "=================================================================\n",
      "Total params: 673\n",
      "Trainable params: 673\n",
      "Non-trainable params: 0\n",
      "_________________________________________________________________\n"
     ]
    }
   ],
   "source": [
    "optzr =  SGD( lr=1e-4 )\n",
    "#Adam(lr=1e-4, beta_1=0.9, beta_2=0.999, decay=0.0)\n",
    "model.compile(loss='mean_squared_error', optimizer=optzr, metrics = test_metrics)\n",
    "model.summary()"
   ]
  },
  {
   "cell_type": "markdown",
   "metadata": {},
   "source": [
    "## Finally ... train the model!"
   ]
  },
  {
   "cell_type": "code",
   "execution_count": 17,
   "metadata": {},
   "outputs": [
    {
     "data": {
      "image/png": "[encoded data removed]",
      "text/plain": [
       "<Figure size 432x288 with 2 Axes>"
      ]
     },
     "metadata": {
      "needs_background": "light"
     },
     "output_type": "display_data"
    },
    {
     "data": {
      "text/plain": [
       "'00:00:09'"
      ]
     },
     "execution_count": 17,
     "metadata": {},
     "output_type": "execute_result"
    }
   ],
   "source": [
    "start_time = time.time() \n",
    "\n",
    "history=model.fit(X_train_scaled, y_train, \n",
    "                    batch_size=1024, \n",
    "                    epochs=20,\n",
    "                    validation_data=[ X_valid_scaled, y_valid],\n",
    "                    callbacks=[plot_losses],shuffle=True)\n",
    "\n",
    "# to print history contents\n",
    "# history.history\n",
    "elapsed_time = time.time() - start_time\n",
    "time.strftime(\"%H:%M:%S\", time.gmtime(elapsed_time))"
   ]
  },
  {
   "cell_type": "markdown",
   "metadata": {},
   "source": [
    "## ... and the moment of truth - evaluation\n",
    "\n",
    "_HINT_: remember at which set we evaluate our model to"
   ]
  },
  {
   "cell_type": "code",
   "execution_count": 18,
   "metadata": {},
   "outputs": [
    {
     "name": "stdout",
     "output_type": "stream",
     "text": [
      "37173/37173 [==============================] - 0s 12us/step\n",
      "Loss value: 2.06\n",
      "mean_squared_error: 2.06\n"
     ]
    }
   ],
   "source": [
    "evaluation = model.evaluate(X_test_scaled, y_test)\n",
    "print(f\"Loss value: {evaluation[0]:.2f}\")  \n",
    "for m in range(len(test_metrics)):\n",
    "    print(f\"{test_metrics[m]}: {evaluation[m+1]:0.2f}\")   "
   ]
  },
  {
   "cell_type": "markdown",
   "metadata": {},
   "source": [
    "### CHECK PAPER for eprformance result\n",
    " ### previous autoenconder look  the test comparison...  and R2 \n"
   ]
  },
  {
   "cell_type": "markdown",
   "metadata": {},
   "source": [
    "# Application 2: Estimate SFR and stellar mass\n",
    "\n",
    "In this case we want to use all/part of the available features to estimate both the SFR (`sfr`) **and** the stellar mass (`mstar`). \n",
    "\n",
    "For this we need to adjust the number of output nodes and the shape of the data. \n",
    "\n",
    "**TASK 1: adjust the model to train and predict both values**\n",
    "\n",
    "**TASK 2: use a custom loss function**"
   ]
  },
  {
   "cell_type": "code",
   "execution_count": null,
   "metadata": {},
   "outputs": [],
   "source": [
    "# select data \n",
    "\n",
    "sel_features = ['logW1', 'logW2', 'EBVs' ]\n",
    "\n",
    "... data ...."
   ]
  },
  {
   "cell_type": "code",
   "execution_count": 20,
   "metadata": {},
   "outputs": [
    {
     "name": "stdout",
     "output_type": "stream",
     "text": [
      "> From 123908 sources:\n",
      "   69388 (train)\n",
      "   17347 (validation)\n",
      "   37173 (test)\n",
      "\n",
      "> Statistics per feature:\n",
      "Mean: [20.84727605 20.74150478  0.11439673]\n",
      "Variance: [2.27294244e+00 2.33001215e+00 2.15554702e-03]\n",
      "\n",
      " Target shape: (69388, 1)\n"
     ]
    }
   ],
   "source": [
    "from sklearn.model_selection import train_test_split\n",
    "from sklearn.preprocessing import StandardScaler\n",
    "\n",
    "\n",
    "X_train_full, X_test, y_train_full, y_test = train_test_split( values, target,\n",
    "                        test_size=0.3) #, random_state=42) \n",
    "X_train, X_valid, y_train, y_valid = train_test_split( X_train_full, y_train_full,\n",
    "                        test_size=0.2) #, random_state=42) \n",
    "\n",
    "scaler = StandardScaler()\n",
    "X_train_scaled = scaler.fit_transform(X_train)\n",
    "X_valid_scaled = scaler.transform(X_valid)\n",
    "X_test_scaled = scaler.transform(X_test)\n",
    "\n",
    "print(f'> From {len(target)} sources:')\n",
    "print(f'   {len(X_train)} (train)')\n",
    "print(f'   {len(X_valid)} (validation)')\n",
    "print(f'   {len(X_test)} (test)') \n",
    "print('\\n> Statistics per feature:')\n",
    "print(f'Mean: {scaler.mean_}')\n",
    "print(f'Variance: {scaler.var_}')\n",
    "print()\n",
    "print(f' Target shape: {y_train.shape}') # print the shape of the output values\n"
   ]
  },
  {
   "cell_type": "code",
   "execution_count": 34,
   "metadata": {},
   "outputs": [],
   "source": [
    "import keras.backend as K"
   ]
  },
  {
   "cell_type": "code",
   "execution_count": 35,
   "metadata": {},
   "outputs": [],
   "source": [
    "def custom_mse(y_true, y_pred):\n",
    " \n",
    "    # calculating squared difference between target and predicted values \n",
    "    loss = K.square(y_pred - y_true)  # (batch_size, 2)\n",
    "    print(loss)\n",
    "    \n",
    "    # multiplying the values with weights along batch dimension\n",
    "    loss = loss * [0.3, 0.7]          # (batch_size, 2)\n",
    "    print(loss)  \n",
    "    # summing both loss values along batch dimension \n",
    "    loss = K.sum(loss, axis=1)        # (batch_size,)\n",
    "    print(loss)\n",
    "    return loss\n",
    "\n"
   ]
  },
  {
   "cell_type": "code",
   "execution_count": 36,
   "metadata": {},
   "outputs": [],
   "source": [
    "# if ypu want to add more output metrics\n",
    "# test_metrics = [ 'mean_absolute_error', 'mean_squared_error']\n",
    "test_metrics = [ 'mean_squared_error'] #, 'mean_absolute_error', ]\n"
   ]
  },
  {
   "cell_type": "code",
   "execution_count": 37,
   "metadata": {},
   "outputs": [],
   "source": [
    "model = Sequential()\n",
    "\n",
    "model.add( Dense(32, input_shape=X_train.shape[1:], activation='relu') )\n",
    "model.add( Dense(16, activation='relu') )\n",
    "model.add( Dense(1) )"
   ]
  },
  {
   "cell_type": "code",
   "execution_count": 31,
   "metadata": {},
   "outputs": [
    {
     "name": "stdout",
     "output_type": "stream",
     "text": [
      "Model: \"sequential_1\"\n",
      "_________________________________________________________________\n",
      "Layer (type)                 Output Shape              Param #   \n",
      "=================================================================\n",
      "dense_1 (Dense)              (None, 32)                128       \n",
      "_________________________________________________________________\n",
      "dense_2 (Dense)              (None, 16)                528       \n",
      "_________________________________________________________________\n",
      "dense_3 (Dense)              (None, 1)                 17        \n",
      "=================================================================\n",
      "Total params: 673\n",
      "Trainable params: 673\n",
      "Non-trainable params: 0\n",
      "_________________________________________________________________\n"
     ]
    }
   ],
   "source": [
    "optzr =  SGD( lr=1e-4 )\n",
    "#Adam(lr=1e-4, beta_1=0.9, beta_2=0.999, decay=0.0)\n",
    "model.compile(loss='mean_squared_error', optimizer=optzr, metrics = test_metrics)\n",
    "model.summary()"
   ]
  },
  {
   "cell_type": "code",
   "execution_count": 32,
   "metadata": {},
   "outputs": [
    {
     "data": {
      "image/png": "[encoded data removed]",
      "text/plain": [
       "<Figure size 432x288 with 2 Axes>"
      ]
     },
     "metadata": {
      "needs_background": "light"
     },
     "output_type": "display_data"
    },
    {
     "data": {
      "text/plain": [
       "'00:00:12'"
      ]
     },
     "execution_count": 32,
     "metadata": {},
     "output_type": "execute_result"
    }
   ],
   "source": [
    "start_time = time.time() \n",
    "\n",
    "history=model.fit(X_train_scaled, y_train, \n",
    "                    batch_size=1024, \n",
    "                    epochs=20,\n",
    "                    validation_data=[ X_valid_scaled, y_valid],\n",
    "                    callbacks=[plot_losses],shuffle=True)\n",
    "\n",
    "# to print history contents\n",
    "# history.history\n",
    "elapsed_time = time.time() - start_time\n",
    "time.strftime(\"%H:%M:%S\", time.gmtime(elapsed_time))"
   ]
  },
  {
   "cell_type": "code",
   "execution_count": 33,
   "metadata": {},
   "outputs": [
    {
     "name": "stdout",
     "output_type": "stream",
     "text": [
      "37173/37173 [==============================] - 1s 22us/step\n",
      "Loss value: 2.54\n",
      "mean_squared_error: 2.54\n"
     ]
    }
   ],
   "source": [
    "evaluation = model.evaluate(X_test_scaled, y_test)\n",
    "print(f\"Loss value: {evaluation[0]:.2f}\")  \n",
    "for m in range(len(test_metrics)):\n",
    "    print(f\"{test_metrics[m]}: {evaluation[m+1]:0.2f}\")   "
   ]
  },
  {
   "cell_type": "markdown",
   "metadata": {},
   "source": [
    "_**Question**: How do we know if we are doing fine?_ \n",
    "\n",
    "<br>\n",
    "<details>\n",
    "<summary>Click for answer</summary>\n",
    "We need to define a base model against which we are comparing the our own\n",
    "</details>\n",
    "\n"
   ]
  },
  {
   "cell_type": "markdown",
   "metadata": {},
   "source": [
    "\n",
    "- https://playground.tensorflow.org/#activation=tanh&batchSize=30&dataset=circle&regDataset=reg-plane&learningRate=0.03&regularizationRate=0&noise=0&networkShape=1&seed=0.40306&showTestData=true&discretize=false&percTrainData=30&x=true&y=true&xTimesY=false&xSquared=false&ySquared=false&cosX=false&sinX=false&cosY=false&sinY=false&collectStats=false&problem=classification&initZero=false&hideText=false\n",
    "- https://machinelearningmastery.com/tutorial-first-neural-network-python-keras/\n",
    "- https://ui.adsabs.harvard.edu/abs/2023arXiv230311691K/abstract A versatile classification tool for galactic activity using optical and infrared colors \n",
    "- https://www.tensorflow.org/tutorials/keras/regression check again ?\n",
    "\n",
    "https://machinelearningmastery.com/how-to-choose-loss-functions-when-training-deep-learning-neural-networks/\n",
    "\n",
    "mean_squared_error\n",
    "mean_squared_logarithmic_error\n",
    "mean_absolute_error\n",
    "mean_absolute_percentage_error\n",
    "\n"
   ]
  }
 ],
 "metadata": {
  "kernelspec": {
   "display_name": "Python 3.7",
   "language": "python",
   "name": "python3.7"
  },
  "language_info": {
   "codemirror_mode": {
    "name": "ipython",
    "version": 3
   },
   "file_extension": ".py",
   "mimetype": "text/x-python",
   "name": "python",
   "nbconvert_exporter": "python",
   "pygments_lexer": "ipython3",
   "version": "3.7.3"
  },
  "toc": {
   "base_numbering": 1,
   "nav_menu": {},
   "number_sections": true,
   "sideBar": true,
   "skip_h1_title": false,
   "title_cell": "Table of Contents",
   "title_sidebar": "Contents",
   "toc_cell": false,
   "toc_position": {
    "height": "calc(100% - 180px)",
    "left": "10px",
    "top": "150px",
    "width": "409.6px"
   },
   "toc_section_display": true,
   "toc_window_display": false
  }
 },
 "nbformat": 4,
 "nbformat_minor": 2
}
