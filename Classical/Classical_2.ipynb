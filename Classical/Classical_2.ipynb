{
 "cells": [
  {
   "cell_type": "markdown",
   "metadata": {},
   "source": [
    "<font size=6>**Classical Statistics: Advanced Topics**</font>"
   ]
  },
  {
   "cell_type": "code",
   "execution_count": 1,
   "metadata": {},
   "outputs": [],
   "source": [
    "import numpy as np"
   ]
  },
  {
   "cell_type": "markdown",
   "metadata": {},
   "source": [
    "# Fisher Matrix"
   ]
  },
  {
   "cell_type": "markdown",
   "metadata": {},
   "source": [
    "# K-L divergence"
   ]
  },
  {
   "cell_type": "markdown",
   "metadata": {},
   "source": [
    "# Covariance matrix"
   ]
  },
  {
   "cell_type": "markdown",
   "metadata": {},
   "source": [
    "# Monte Carlo error propagation"
   ]
  },
  {
   "cell_type": "markdown",
   "metadata": {},
   "source": [
    "# In-class Exercises"
   ]
  },
  {
   "cell_type": "markdown",
   "metadata": {},
   "source": [
    "- They should have a dedicated chapter, sub-chapter or sub-sub-chapter\n",
    "\n",
    "- The **in-class** notebook shall have three dots \"`...`\" to signify where to fill in stuff\n",
    "\n",
    "- The **answerkey notebook** shall have the _exact same_ fill-in block(s) followed by a separation, and finally \"`Our solution`\"\n",
    "\n",
    "- They must use the following formatting (the example is for an answerkey notebook)\n",
    "\n",
    "## In-class Exercise: _Do-this-and-that-example_\n",
    "\n",
    "**Task.** Apply regularization.\n",
    "\n",
    "**Objective**: Keep the best network you found previously, and add regularization.  Observe how the convergence changes by using regularization.\n",
    "\n",
    "Add the regularizations one by one, and re-run every time to see what happens.  Use one or more of:\n",
    "1. L1 or L2 regularization\n",
    "2. Batch Normalization\n",
    "3. Dropout\n",
    "\n",
    "**Dataset**: We will use the same dataset as before."
   ]
  },
  {
   "cell_type": "markdown",
   "metadata": {},
   "source": [
    "<hr style='height:1px'>\n",
    "\n",
    "_Our solution_"
   ]
  },
  {
   "cell_type": "markdown",
   "metadata": {},
   "source": [
    "## In-class Discussion Example\n",
    "\n",
    "<font size=3><u>**In-class discussion**</u><font>\n",
    "\n",
    "What would you do to fit a Gaussian?\n",
    "    \n",
    "_Discuss a few mins with your teammate, then report.  Think of possible pros and cons of your method._\n",
    "\n",
    "<details>\n",
    "<summary><b>[Spoiler]</b></summary>\n",
    "<br>\n",
    "Here goes a hint or the solution.\n",
    "<br>"
   ]
  }
 ],
 "metadata": {
  "kernelspec": {
   "display_name": "Python 3 (ipykernel)",
   "language": "python",
   "name": "python3"
  },
  "language_info": {
   "codemirror_mode": {
    "name": "ipython",
    "version": 3
   },
   "file_extension": ".py",
   "mimetype": "text/x-python",
   "name": "python",
   "nbconvert_exporter": "python",
   "pygments_lexer": "ipython3",
   "version": "3.9.16"
  },
  "toc": {
   "base_numbering": 1,
   "nav_menu": {},
   "number_sections": true,
   "sideBar": true,
   "skip_h1_title": false,
   "title_cell": "Table of Contents",
   "title_sidebar": "Contents",
   "toc_cell": false,
   "toc_position": {},
   "toc_section_display": true,
   "toc_window_display": true
  },
  "vscode": {
   "interpreter": {
    "hash": "31f2aee4e71d21fbe5cf8b01ff0e069b9275f58929596ceb00d14d90e3e16cd6"
   }
  }
 },
 "nbformat": 4,
 "nbformat_minor": 4
}
